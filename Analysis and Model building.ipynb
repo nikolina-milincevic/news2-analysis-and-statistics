{
 "cells": [
  {
   "cell_type": "markdown",
   "id": "0922c31f",
   "metadata": {},
   "source": [
    "# Load the data"
   ]
  },
  {
   "cell_type": "code",
   "execution_count": 1,
   "id": "295a5689",
   "metadata": {},
   "outputs": [],
   "source": [
    "import numpy as np\n",
    "import pandas as pd"
   ]
  },
  {
   "cell_type": "code",
   "execution_count": 6,
   "id": "3eef2e99",
   "metadata": {},
   "outputs": [],
   "source": [
    "dataset_backup = pd.read_excel(\"statistika.xlsx\", sheet_name=\"Sheet1\")"
   ]
  },
  {
   "cell_type": "code",
   "execution_count": 7,
   "id": "4f3d75f3",
   "metadata": {},
   "outputs": [
    {
     "data": {
      "text/html": [
       "<div>\n",
       "<style scoped>\n",
       "    .dataframe tbody tr th:only-of-type {\n",
       "        vertical-align: middle;\n",
       "    }\n",
       "\n",
       "    .dataframe tbody tr th {\n",
       "        vertical-align: top;\n",
       "    }\n",
       "\n",
       "    .dataframe thead th {\n",
       "        text-align: right;\n",
       "    }\n",
       "</style>\n",
       "<table border=\"1\" class=\"dataframe\">\n",
       "  <thead>\n",
       "    <tr style=\"text-align: right;\">\n",
       "      <th></th>\n",
       "      <th>RB</th>\n",
       "      <th>SPOL</th>\n",
       "      <th>MJESTO</th>\n",
       "      <th>DOB</th>\n",
       "      <th>RAZLOG/dg</th>\n",
       "      <th>OTPUST</th>\n",
       "      <th>2 DANA</th>\n",
       "      <th>30 DANA</th>\n",
       "      <th>ICU</th>\n",
       "      <th>SMRT</th>\n",
       "      <th>...</th>\n",
       "      <th>KISIK_BOD_6</th>\n",
       "      <th>TLAK_6</th>\n",
       "      <th>TLAK_BOD_6</th>\n",
       "      <th>PULS_6</th>\n",
       "      <th>PULS_BOD_6</th>\n",
       "      <th>SVIJEST_6</th>\n",
       "      <th>SVIJEST_BOD_6</th>\n",
       "      <th>TEMPERATURA_6</th>\n",
       "      <th>TEMP_BOD_6</th>\n",
       "      <th>UKUPNI_BODOVI_6</th>\n",
       "    </tr>\n",
       "  </thead>\n",
       "  <tbody>\n",
       "    <tr>\n",
       "      <th>0</th>\n",
       "      <td>1</td>\n",
       "      <td>1</td>\n",
       "      <td>1</td>\n",
       "      <td>1936</td>\n",
       "      <td>6</td>\n",
       "      <td>1</td>\n",
       "      <td>1.0</td>\n",
       "      <td>1.0</td>\n",
       "      <td>0</td>\n",
       "      <td>0</td>\n",
       "      <td>...</td>\n",
       "      <td>NaN</td>\n",
       "      <td>NaN</td>\n",
       "      <td>NaN</td>\n",
       "      <td>NaN</td>\n",
       "      <td>NaN</td>\n",
       "      <td>NaN</td>\n",
       "      <td>NaN</td>\n",
       "      <td>NaN</td>\n",
       "      <td>NaN</td>\n",
       "      <td>NaN</td>\n",
       "    </tr>\n",
       "    <tr>\n",
       "      <th>1</th>\n",
       "      <td>2</td>\n",
       "      <td>2</td>\n",
       "      <td>1</td>\n",
       "      <td>1972</td>\n",
       "      <td>10</td>\n",
       "      <td>1</td>\n",
       "      <td>3.0</td>\n",
       "      <td>4.0</td>\n",
       "      <td>0</td>\n",
       "      <td>0</td>\n",
       "      <td>...</td>\n",
       "      <td>NaN</td>\n",
       "      <td>NaN</td>\n",
       "      <td>NaN</td>\n",
       "      <td>NaN</td>\n",
       "      <td>NaN</td>\n",
       "      <td>NaN</td>\n",
       "      <td>NaN</td>\n",
       "      <td>NaN</td>\n",
       "      <td>NaN</td>\n",
       "      <td>NaN</td>\n",
       "    </tr>\n",
       "    <tr>\n",
       "      <th>2</th>\n",
       "      <td>3</td>\n",
       "      <td>2</td>\n",
       "      <td>1</td>\n",
       "      <td>1946</td>\n",
       "      <td>9</td>\n",
       "      <td>4</td>\n",
       "      <td>5.0</td>\n",
       "      <td>1.0</td>\n",
       "      <td>1</td>\n",
       "      <td>0</td>\n",
       "      <td>...</td>\n",
       "      <td>NaN</td>\n",
       "      <td>NaN</td>\n",
       "      <td>NaN</td>\n",
       "      <td>NaN</td>\n",
       "      <td>NaN</td>\n",
       "      <td>NaN</td>\n",
       "      <td>NaN</td>\n",
       "      <td>NaN</td>\n",
       "      <td>NaN</td>\n",
       "      <td>NaN</td>\n",
       "    </tr>\n",
       "    <tr>\n",
       "      <th>3</th>\n",
       "      <td>4</td>\n",
       "      <td>2</td>\n",
       "      <td>1</td>\n",
       "      <td>1927</td>\n",
       "      <td>11</td>\n",
       "      <td>6</td>\n",
       "      <td>1.0</td>\n",
       "      <td>2.0</td>\n",
       "      <td>0</td>\n",
       "      <td>0</td>\n",
       "      <td>...</td>\n",
       "      <td>NaN</td>\n",
       "      <td>NaN</td>\n",
       "      <td>NaN</td>\n",
       "      <td>NaN</td>\n",
       "      <td>NaN</td>\n",
       "      <td>NaN</td>\n",
       "      <td>NaN</td>\n",
       "      <td>NaN</td>\n",
       "      <td>NaN</td>\n",
       "      <td>NaN</td>\n",
       "    </tr>\n",
       "    <tr>\n",
       "      <th>4</th>\n",
       "      <td>5</td>\n",
       "      <td>2</td>\n",
       "      <td>1</td>\n",
       "      <td>1934</td>\n",
       "      <td>10</td>\n",
       "      <td>3</td>\n",
       "      <td>3.0</td>\n",
       "      <td>1.0</td>\n",
       "      <td>0</td>\n",
       "      <td>0</td>\n",
       "      <td>...</td>\n",
       "      <td>NaN</td>\n",
       "      <td>NaN</td>\n",
       "      <td>NaN</td>\n",
       "      <td>NaN</td>\n",
       "      <td>NaN</td>\n",
       "      <td>NaN</td>\n",
       "      <td>NaN</td>\n",
       "      <td>NaN</td>\n",
       "      <td>NaN</td>\n",
       "      <td>NaN</td>\n",
       "    </tr>\n",
       "  </tbody>\n",
       "</table>\n",
       "<p>5 rows × 114 columns</p>\n",
       "</div>"
      ],
      "text/plain": [
       "   RB  SPOL  MJESTO   DOB  RAZLOG/dg  OTPUST  2 DANA  30 DANA  ICU  SMRT  ...  \\\n",
       "0   1     1       1  1936          6       1     1.0      1.0    0     0  ...   \n",
       "1   2     2       1  1972         10       1     3.0      4.0    0     0  ...   \n",
       "2   3     2       1  1946          9       4     5.0      1.0    1     0  ...   \n",
       "3   4     2       1  1927         11       6     1.0      2.0    0     0  ...   \n",
       "4   5     2       1  1934         10       3     3.0      1.0    0     0  ...   \n",
       "\n",
       "   KISIK_BOD_6  TLAK_6  TLAK_BOD_6  PULS_6  PULS_BOD_6  SVIJEST_6  \\\n",
       "0          NaN     NaN         NaN     NaN         NaN        NaN   \n",
       "1          NaN     NaN         NaN     NaN         NaN        NaN   \n",
       "2          NaN     NaN         NaN     NaN         NaN        NaN   \n",
       "3          NaN     NaN         NaN     NaN         NaN        NaN   \n",
       "4          NaN     NaN         NaN     NaN         NaN        NaN   \n",
       "\n",
       "   SVIJEST_BOD_6  TEMPERATURA_6  TEMP_BOD_6  UKUPNI_BODOVI_6  \n",
       "0            NaN            NaN         NaN              NaN  \n",
       "1            NaN            NaN         NaN              NaN  \n",
       "2            NaN            NaN         NaN              NaN  \n",
       "3            NaN            NaN         NaN              NaN  \n",
       "4            NaN            NaN         NaN              NaN  \n",
       "\n",
       "[5 rows x 114 columns]"
      ]
     },
     "execution_count": 7,
     "metadata": {},
     "output_type": "execute_result"
    }
   ],
   "source": [
    "dataset = dataset_backup.copy()\n",
    "dataset.head()"
   ]
  },
  {
   "cell_type": "code",
   "execution_count": 11,
   "id": "c6a9df50",
   "metadata": {},
   "outputs": [
    {
     "data": {
      "text/plain": [
       "(278, 114)"
      ]
     },
     "execution_count": 11,
     "metadata": {},
     "output_type": "execute_result"
    }
   ],
   "source": [
    "dataset.shape"
   ]
  },
  {
   "cell_type": "code",
   "execution_count": 12,
   "id": "fe7ca854",
   "metadata": {},
   "outputs": [
    {
     "data": {
      "text/plain": [
       "array(['RB', 'SPOL', 'MJESTO', 'DOB', 'RAZLOG/dg', 'OTPUST', '2 DANA',\n",
       "       '30 DANA', 'ICU', 'SMRT', 'RIZIK_POJEDINACNI', 'RIZIK_UKUPNI',\n",
       "       'RESPIRACIJE_1', 'RESP_BOD_1', 'SPO2_1', 'SPO2_BOD_1', 'SPO22_1',\n",
       "       'SPO22_BOD_1', 'KISIK_1', 'KISIK_BOD_1', 'TLAK_1', 'TLAK_BOD_1',\n",
       "       'PULS_1', 'PULS_BOD_1', 'SVIJEST_1', 'SVIJEST_BOD_1',\n",
       "       'TEMPERATURA_1', 'TEMP_BOD_1', 'UKUPNI_BODOVI_1', 'RESPIRACIJE_2',\n",
       "       'RESP_BOD_2', 'SPO2_2', 'SPO2_BOD_2', 'SPO22_2', 'SPO22_BOD_2',\n",
       "       'KISIK_2', 'KISIK_BOD_2', 'TLAK_2', 'TLAK_BOD_2', 'PULS_2',\n",
       "       'PULS_BOD_2', 'SVIJEST_2', 'SVIJEST_BOD_2', 'TEMPERATURA_2',\n",
       "       'TEMP_BOD_2', 'UKUPNI_BODOVI_2', 'RESPIRACIJE_3', 'RESP_BOD_3',\n",
       "       'SPO2_3', 'SPO2_BOD_3', 'SPO22_3', 'SPO22_BOD_3', 'KISIK_3',\n",
       "       'KISIK_BOD_3', 'TLAK_3', 'TLAK_BOD_3', 'PULS_3', 'PULS_BOD_3',\n",
       "       'SVIJEST_3', 'SVIJEST_BOD_3', 'TEMPERATURA_3', 'TEMP_BOD_3',\n",
       "       'UKUPNI_BODOVI_3', 'RESPIRACIJE_4', 'RESP_BOD_4', 'SPO2_4',\n",
       "       'SPO2_BOD_4', 'SPO22_4', 'SPO22_BOD_4', 'KISIK_4', 'KISIK_BOD_4',\n",
       "       'TLAK_4', 'TLAK_BOD_4', 'PULS_4', 'PULS_BOD_4', 'SVIJEST_4',\n",
       "       'SVIJEST_BOD_4', 'TEMPERATURA_4', 'TEMP_BOD_4', 'UKUPNI_BODOVI_4',\n",
       "       'RESPIRACIJE_5', 'RESP_BOD_5', 'SPO2_5', 'SPO2_BOD_5', 'SPO22_5',\n",
       "       'SPO22_BOD_5', 'KISIK_5', 'KISIK_BOD_5', 'TLAK_5', 'TLAK_BOD_5',\n",
       "       'PULS_5', 'PULS_BOD_5', 'SVIJEST_5', 'SVIJEST_BOD_5',\n",
       "       'TEMPERATURA_5', 'TEMP_BOD_5', 'UKUPNI_BODOVI_5', 'RESPIRACIJE_6',\n",
       "       'RESP_BOD_6', 'SPO2_6', 'SPO2_BOD_6', 'SPO22_6', 'SPO22_BOD_6',\n",
       "       'KISIK_6', 'KISIK_BOD_6', 'TLAK_6', 'TLAK_BOD_6', 'PULS_6',\n",
       "       'PULS_BOD_6', 'SVIJEST_6', 'SVIJEST_BOD_6', 'TEMPERATURA_6',\n",
       "       'TEMP_BOD_6', 'UKUPNI_BODOVI_6'], dtype=object)"
      ]
     },
     "execution_count": 12,
     "metadata": {},
     "output_type": "execute_result"
    }
   ],
   "source": [
    "dataset.columns.values"
   ]
  },
  {
   "cell_type": "code",
   "execution_count": 13,
   "id": "2d16836f",
   "metadata": {},
   "outputs": [
    {
     "name": "stdout",
     "output_type": "stream",
     "text": [
      "<class 'pandas.core.frame.DataFrame'>\n",
      "RangeIndex: 278 entries, 0 to 277\n",
      "Columns: 114 entries, RB to UKUPNI_BODOVI_6\n",
      "dtypes: float64(81), int64(33)\n",
      "memory usage: 247.7 KB\n"
     ]
    }
   ],
   "source": [
    "dataset.info()"
   ]
  },
  {
   "cell_type": "markdown",
   "id": "67fb977e",
   "metadata": {},
   "source": [
    "# Analysis"
   ]
  },
  {
   "cell_type": "markdown",
   "id": "2434263d",
   "metadata": {},
   "source": [
    "## Sex of patients"
   ]
  },
  {
   "cell_type": "code",
   "execution_count": 15,
   "id": "b791789d",
   "metadata": {},
   "outputs": [
    {
     "data": {
      "text/plain": [
       "array([1, 2])"
      ]
     },
     "execution_count": 15,
     "metadata": {},
     "output_type": "execute_result"
    }
   ],
   "source": [
    "dataset[\"SPOL\"].unique()"
   ]
  },
  {
   "cell_type": "code",
   "execution_count": 59,
   "id": "f3baf9b3",
   "metadata": {},
   "outputs": [],
   "source": [
    "dataset[\"spol_mz\"] = dataset[\"SPOL\"].apply(str).replace(\"1\", \"M\")\n",
    "dataset[\"spol_mz\"] = dataset[\"spol_mz\"].replace(\"2\", \"Z\")"
   ]
  },
  {
   "cell_type": "code",
   "execution_count": 60,
   "id": "6a4bfd09",
   "metadata": {},
   "outputs": [
    {
     "data": {
      "text/plain": [
       "0      M\n",
       "1      Z\n",
       "2      Z\n",
       "3      Z\n",
       "4      Z\n",
       "      ..\n",
       "273    M\n",
       "274    Z\n",
       "275    Z\n",
       "276    Z\n",
       "277    M\n",
       "Name: spol_mz, Length: 278, dtype: object"
      ]
     },
     "execution_count": 60,
     "metadata": {},
     "output_type": "execute_result"
    }
   ],
   "source": [
    "dataset[\"spol_mz\"]"
   ]
  },
  {
   "cell_type": "code",
   "execution_count": 61,
   "id": "45038d14",
   "metadata": {
    "scrolled": true
   },
   "outputs": [
    {
     "data": {
      "text/html": [
       "<div>\n",
       "<style scoped>\n",
       "    .dataframe tbody tr th:only-of-type {\n",
       "        vertical-align: middle;\n",
       "    }\n",
       "\n",
       "    .dataframe tbody tr th {\n",
       "        vertical-align: top;\n",
       "    }\n",
       "\n",
       "    .dataframe thead th {\n",
       "        text-align: right;\n",
       "    }\n",
       "</style>\n",
       "<table border=\"1\" class=\"dataframe\">\n",
       "  <thead>\n",
       "    <tr style=\"text-align: right;\">\n",
       "      <th>col_0</th>\n",
       "      <th>frequency</th>\n",
       "      <th>rel_frequency</th>\n",
       "    </tr>\n",
       "    <tr>\n",
       "      <th>spol_mz</th>\n",
       "      <th></th>\n",
       "      <th></th>\n",
       "    </tr>\n",
       "  </thead>\n",
       "  <tbody>\n",
       "    <tr>\n",
       "      <th>M</th>\n",
       "      <td>126</td>\n",
       "      <td>0.453237</td>\n",
       "    </tr>\n",
       "    <tr>\n",
       "      <th>Z</th>\n",
       "      <td>152</td>\n",
       "      <td>0.546763</td>\n",
       "    </tr>\n",
       "  </tbody>\n",
       "</table>\n",
       "</div>"
      ],
      "text/plain": [
       "col_0    frequency  rel_frequency\n",
       "spol_mz                          \n",
       "M              126       0.453237\n",
       "Z              152       0.546763"
      ]
     },
     "execution_count": 61,
     "metadata": {},
     "output_type": "execute_result"
    }
   ],
   "source": [
    "freq_table = pd.crosstab(dataset['spol_mz'], 'frequency')\n",
    "freq_table[\"rel_frequency\"] = freq_table['frequency']/len(dataset[\"spol_mz\"])\n",
    "freq_table"
   ]
  },
  {
   "cell_type": "code",
   "execution_count": 71,
   "id": "032acc55",
   "metadata": {},
   "outputs": [
    {
     "data": {
      "text/plain": [
       "126"
      ]
     },
     "execution_count": 71,
     "metadata": {},
     "output_type": "execute_result"
    }
   ],
   "source": [
    "freq_table[\"frequency\"][\"M\"]"
   ]
  },
  {
   "cell_type": "code",
   "execution_count": 65,
   "id": "cdda7444",
   "metadata": {},
   "outputs": [],
   "source": [
    "from scipy.stats import binom_test"
   ]
  },
  {
   "cell_type": "code",
   "execution_count": 72,
   "id": "96491093",
   "metadata": {},
   "outputs": [
    {
     "name": "stderr",
     "output_type": "stream",
     "text": [
      "/var/folders/pn/n2g0nqvs69b0yx721gj7v9gw0000gn/T/ipykernel_1559/2888726873.py:1: DeprecationWarning: 'binom_test' is deprecated in favour of 'binomtest' from version 1.7.0 and will be removed in Scipy 1.12.0.\n",
      "  binom_test(x=freq_table[\"frequency\"][\"M\"], n=len(dataset[\"spol_mz\"]), p=1/2, alternative=\"two-sided\")\n"
     ]
    },
    {
     "data": {
      "text/plain": [
       "0.1336244676178877"
      ]
     },
     "execution_count": 72,
     "metadata": {},
     "output_type": "execute_result"
    }
   ],
   "source": [
    "binom_test(x=freq_table[\"frequency\"][\"M\"], n=len(dataset[\"spol_mz\"]), p=1/2, alternative=\"two-sided\")"
   ]
  },
  {
   "cell_type": "markdown",
   "id": "1981b5d9",
   "metadata": {},
   "source": [
    "Na razini znacajnosti alpha=0.05 testirajmo hipotezu da uzorak dolazi iz populacije s jednakim brojem zena i muskaraca. Ako s p oznacimo vjerojatnost da je slucajno odabrana osoba muskarac, onda testiramo nulhipotezu H_0 i njoj suprotstavljamo alternativnu hipotezu H_1, gdje su one dane s:\\\n",
    "H_0: p=1/2 \\\n",
    "H_1: p!=1/2\n",
    "\n",
    "Dobivena p-vrijednosti iznosi 0.1336244676178877 > alpha, sto znaci da na razini znacajnosti od 0.05 nemamo razloga odbaciti nulhipotezu. Stoga na razini znacajnosti 0.05 nemamo razloga sumnjati da uzorak dolazi iz binomne distribucije s parametrom 1/2. "
   ]
  },
  {
   "cell_type": "code",
   "execution_count": null,
   "id": "20ed3369",
   "metadata": {},
   "outputs": [],
   "source": []
  }
 ],
 "metadata": {
  "kernelspec": {
   "display_name": "Python 3 (ipykernel)",
   "language": "python",
   "name": "python3"
  },
  "language_info": {
   "codemirror_mode": {
    "name": "ipython",
    "version": 3
   },
   "file_extension": ".py",
   "mimetype": "text/x-python",
   "name": "python",
   "nbconvert_exporter": "python",
   "pygments_lexer": "ipython3",
   "version": "3.11.4"
  }
 },
 "nbformat": 4,
 "nbformat_minor": 5
}
